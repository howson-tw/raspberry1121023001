{
 "cells": [
  {
   "cell_type": "code",
   "execution_count": 2,
   "metadata": {},
   "outputs": [
    {
     "name": "stdout",
     "output_type": "stream",
     "text": [
      "value1: 66\n",
      "成功\n"
     ]
    }
   ],
   "source": [
    "import requests\n",
    "import random\n",
    "\n",
    "id = random.randint(1, 100)\n",
    "url = \"https://maker.ifttt.com/trigger/receive_notify/with/key/9mPwj4LJhLCMJdzXgeenp\"\n",
    "res = requests.request(\n",
    "    \"POST\", \n",
    "    url, \n",
    "    headers={'Content-Type': 'application/json'},\n",
    "    params={'value1':str(id), 'value2':'88', 'value3':'77'}\n",
    "    )\n",
    "\n",
    "if res.status_code == 200:\n",
    "    print(\"value1: \" + str(id))\n",
    "    print(\"成功\")\n",
    "    "
   ]
  },
  {
   "cell_type": "code",
   "execution_count": null,
   "metadata": {},
   "outputs": [],
   "source": []
  },
  {
   "cell_type": "code",
   "execution_count": null,
   "metadata": {},
   "outputs": [],
   "source": []
  }
 ],
 "metadata": {
  "kernelspec": {
   "display_name": ".venv",
   "language": "python",
   "name": "python3"
  },
  "language_info": {
   "codemirror_mode": {
    "name": "ipython",
    "version": 3
   },
   "file_extension": ".py",
   "mimetype": "text/x-python",
   "name": "python",
   "nbconvert_exporter": "python",
   "pygments_lexer": "ipython3",
   "version": "3.11.2"
  }
 },
 "nbformat": 4,
 "nbformat_minor": 2
}
